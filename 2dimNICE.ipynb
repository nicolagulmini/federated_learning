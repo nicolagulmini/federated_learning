{
 "cells": [
  {
   "cell_type": "markdown",
   "metadata": {},
   "source": [
    "# 2-dimensional NICE\n",
    "I try to learn a bivariate gaussian distribution"
   ]
  },
  {
   "cell_type": "code",
   "execution_count": 86,
   "metadata": {},
   "outputs": [],
   "source": [
    "cfg = {\n",
    "    'TRAIN_BATCH_SIZE': 64,\n",
    "    'TRAIN_EPOCHS': 40,\n",
    "    'NUM_COUPLING_LAYERS': 4,\n",
    "    'NUM_NET_LAYERS': 6,  \n",
    "    'NUM_HIDDEN_UNITS': 100,\n",
    "    #'MODEL_SAVE_PATH': './saved_models/cifar10/'\n",
    "}"
   ]
  },
  {
   "cell_type": "code",
   "execution_count": 87,
   "metadata": {},
   "outputs": [],
   "source": [
    "import os\n",
    "import torch\n",
    "import torch.optim as optim\n",
    "import torch.nn as nn\n",
    "import torch.nn.functional as F\n",
    "from torchvision import transforms, datasets\n",
    "import matplotlib.pyplot as plt\n",
    "from torch.distributions import Distribution, Uniform\n",
    "import numpy as np"
   ]
  },
  {
   "cell_type": "code",
   "execution_count": 88,
   "metadata": {},
   "outputs": [],
   "source": [
    "class NICE(nn.Module):\n",
    "  def __init__(self, data_dim, num_coupling_layers=3):\n",
    "    super().__init__()\n",
    "\n",
    "    self.data_dim = data_dim\n",
    "\n",
    "    # alternating mask orientations for consecutive coupling layers\n",
    "    masks = [self._get_mask(data_dim, orientation=(i % 2 == 0)) for i in range(num_coupling_layers)]\n",
    "\n",
    "    self.coupling_layers = nn.ModuleList([CouplingLayer(\n",
    "        data_dim=data_dim, \n",
    "        hidden_dim=cfg['NUM_HIDDEN_UNITS'], \n",
    "        mask=masks[i], \n",
    "        num_layers=cfg['NUM_NET_LAYERS'])\n",
    "        for i in range(num_coupling_layers)])\n",
    "\n",
    "    self.scaling_layer = ScalingLayer(data_dim=data_dim)\n",
    "    self.prior = LogisticDistribution()\n",
    "\n",
    "  def forward(self, x, invert=False):\n",
    "    if not invert:\n",
    "      z, log_det_jacobian = self.f(x)\n",
    "      log_likelihood = torch.sum(self.prior.log_prob(z), dim=1) + log_det_jacobian\n",
    "      return z, log_likelihood\n",
    "\n",
    "    return self.f_inverse(x)\n",
    "\n",
    "  def f(self, x):\n",
    "    z = x\n",
    "    log_det_jacobian = 0\n",
    "    for i, coupling_layer in enumerate(self.coupling_layers):\n",
    "      z, log_det_jacobian = coupling_layer(z, log_det_jacobian)\n",
    "    z, log_det_jacobian = self.scaling_layer(z, log_det_jacobian)\n",
    "    return z, log_det_jacobian\n",
    "\n",
    "  def f_inverse(self, z):\n",
    "    x = z\n",
    "    x, _ = self.scaling_layer(x, 0, invert=True)\n",
    "    for i, coupling_layer in reversed(list(enumerate(self.coupling_layers))):\n",
    "      x, _ = coupling_layer(x, 0, invert=True)\n",
    "    return x\n",
    "\n",
    "  def sample(self, num_samples):\n",
    "    z = self.prior.sample([num_samples, self.data_dim]).view(num_samples, self.data_dim)\n",
    "    print(z)\n",
    "    return self.f_inverse(z)\n",
    "\n",
    "  def _get_mask(self, dim, orientation=True):\n",
    "    mask = np.zeros(dim)\n",
    "    mask[::2] = 1.\n",
    "    if orientation:\n",
    "      mask = 1. - mask # flip mask orientation\n",
    "    mask = torch.tensor(mask)\n",
    "    return mask.float()"
   ]
  },
  {
   "cell_type": "code",
   "execution_count": 89,
   "metadata": {},
   "outputs": [],
   "source": [
    "class CouplingLayer(nn.Module):\n",
    "  \"\"\"\n",
    "  Implementation of the additive coupling layer from section 3.2 of the NICE\n",
    "  paper.\n",
    "  \"\"\"\n",
    "\n",
    "  def __init__(self, data_dim, hidden_dim, mask, num_layers=4):\n",
    "    super().__init__()\n",
    "\n",
    "    assert data_dim % 2 == 0\n",
    "\n",
    "    self.mask = mask\n",
    "\n",
    "    modules = [nn.Linear(data_dim, hidden_dim), nn.LeakyReLU(0.2)]\n",
    "    for i in range(num_layers - 2):\n",
    "      modules.append(nn.Linear(hidden_dim, hidden_dim))\n",
    "      modules.append(nn.LeakyReLU(0.2))\n",
    "    modules.append(nn.Linear(hidden_dim, data_dim))\n",
    "\n",
    "    self.m = nn.Sequential(*modules)\n",
    "\n",
    "  def forward(self, x, logdet, invert=False):\n",
    "    if not invert:\n",
    "      x1, x2 = self.mask * x, (1. - self.mask) * x\n",
    "      y1, y2 = x1, x2 + (self.m(x1) * (1. - self.mask))\n",
    "      return y1 + y2, logdet\n",
    "\n",
    "    # Inverse additive coupling layer\n",
    "    y1, y2 = self.mask * x, (1. - self.mask) * x\n",
    "    x1, x2 = y1, y2 - (self.m(y1) * (1. - self.mask))\n",
    "    return x1 + x2, logdet\n",
    "\n",
    "\n",
    "class ScalingLayer(nn.Module):\n",
    "  \"\"\"\n",
    "  Implementation of the scaling layer from section 3.3 of the NICE paper.\n",
    "  \"\"\"\n",
    "  def __init__(self, data_dim):\n",
    "    super().__init__()\n",
    "    self.log_scale_vector = nn.Parameter(torch.randn(1, data_dim, requires_grad=True))\n",
    "\n",
    "  def forward(self, x, logdet, invert=False):\n",
    "    log_det_jacobian = torch.sum(self.log_scale_vector)\n",
    "\n",
    "    if invert:\n",
    "        return torch.exp(- self.log_scale_vector) * x, logdet - log_det_jacobian\n",
    "\n",
    "    return torch.exp(self.log_scale_vector) * x, logdet + log_det_jacobian"
   ]
  },
  {
   "cell_type": "code",
   "execution_count": 90,
   "metadata": {},
   "outputs": [],
   "source": [
    "class LogisticDistribution(Distribution):\n",
    "    def __init__(self):\n",
    "        super().__init__()\n",
    "\n",
    "    def log_prob(self, x):\n",
    "        return -(F.softplus(x) + F.softplus(-x))\n",
    "    \n",
    "    def prob(self, x):\n",
    "        return torch.exp(torch.sum(self.log_prob(x)))\n",
    "\n",
    "    def sample(self, size):\n",
    "        z = Uniform(torch.FloatTensor([0.]), torch.FloatTensor([1.])).sample(size)\n",
    "        return torch.log(z) - torch.log(1. - z)"
   ]
  },
  {
   "cell_type": "code",
   "execution_count": 91,
   "metadata": {},
   "outputs": [],
   "source": [
    "points = np.random.multivariate_normal([1, 5], [[10, 0], [0, 1]], 30000)"
   ]
  },
  {
   "cell_type": "code",
   "execution_count": 92,
   "metadata": {},
   "outputs": [
    {
     "data": {
      "image/png": "[encoded data removed]",
      "text/plain": [
       "<Figure size 432x288 with 1 Axes>"
      ]
     },
     "metadata": {
      "needs_background": "light"
     },
     "output_type": "display_data"
    }
   ],
   "source": [
    "def show_sampled_points(points):\n",
    "    x = []\n",
    "    y = []\n",
    "    for i in points:\n",
    "        x.append(i[0])\n",
    "        y.append(i[1])\n",
    "    plt.scatter(x, y)\n",
    "    plt.xlim([-20, 20])\n",
    "    plt.ylim([-20, 20])\n",
    "    plt.show()\n",
    "\n",
    "show_sampled_points(points)"
   ]
  },
  {
   "cell_type": "code",
   "execution_count": 93,
   "metadata": {},
   "outputs": [],
   "source": [
    "transform = transforms.ToTensor()\n",
    "dataloader = torch.utils.data.DataLoader(dataset=points, batch_size=cfg['TRAIN_BATCH_SIZE'], shuffle=True, pin_memory=True)"
   ]
  },
  {
   "cell_type": "code",
   "execution_count": 94,
   "metadata": {},
   "outputs": [],
   "source": [
    "def train(model, epochs, dataloader):\n",
    "    model.train()\n",
    "    opt = optim.Adam(model.parameters())\n",
    "    for i in range(epochs):\n",
    "        mean_likelihood = 0.0\n",
    "        num_minibatches = 0\n",
    "\n",
    "        for batch_id, x in enumerate(dataloader):\n",
    "            x = x.view(-1, 2) #+ torch.rand(2) / 256. \n",
    "            #x = torch.clamp(x, 0, 1) \n",
    "            z, likelihood = model(x.float())\n",
    "            #print(likelihood)\n",
    "            loss = -torch.mean(likelihood) # NLL\n",
    "            loss.backward()\n",
    "            opt.step()\n",
    "            model.zero_grad()\n",
    "            mean_likelihood -= loss\n",
    "            num_minibatches += 1\n",
    "\n",
    "        mean_likelihood /= num_minibatches\n",
    "        if i % 10 == 0:\n",
    "            print('Epoch {} completed. Log Likelihood: {}'.format(i, mean_likelihood))"
   ]
  },
  {
   "cell_type": "code",
   "execution_count": 95,
   "metadata": {},
   "outputs": [],
   "source": [
    "model = NICE(data_dim=2, num_coupling_layers=4)"
   ]
  },
  {
   "cell_type": "code",
   "execution_count": 96,
   "metadata": {},
   "outputs": [
    {
     "name": "stdout",
     "output_type": "stream",
     "text": [
      "Epoch 0 completed. Log Likelihood: -5.290795803070068\n",
      "Epoch 10 completed. Log Likelihood: -4.01470947265625\n",
      "Epoch 20 completed. Log Likelihood: -4.006886005401611\n",
      "Epoch 30 completed. Log Likelihood: -4.0043110847473145\n",
      "Epoch 40 completed. Log Likelihood: -3.9997756481170654\n",
      "Epoch 50 completed. Log Likelihood: -3.99733829498291\n",
      "Epoch 60 completed. Log Likelihood: -3.9974653720855713\n",
      "Epoch 70 completed. Log Likelihood: -3.996757984161377\n",
      "Epoch 80 completed. Log Likelihood: -3.9966049194335938\n",
      "Epoch 90 completed. Log Likelihood: -3.9969096183776855\n",
      "Epoch 100 completed. Log Likelihood: -3.996242046356201\n",
      "Epoch 110 completed. Log Likelihood: -3.995957612991333\n",
      "Epoch 120 completed. Log Likelihood: -3.996107578277588\n",
      "Epoch 130 completed. Log Likelihood: -3.9963529109954834\n",
      "Epoch 140 completed. Log Likelihood: -3.9958271980285645\n"
     ]
    }
   ],
   "source": [
    "train(model, 150, dataloader)"
   ]
  },
  {
   "cell_type": "code",
   "execution_count": 50,
   "metadata": {
    "collapsed": true,
    "jupyter": {
     "outputs_hidden": true,
     "source_hidden": true
    }
   },
   "outputs": [
    {
     "data": {
      "image/png": "[encoded data removed]",
      "text/plain": [
       "<Figure size 432x288 with 1 Axes>"
      ]
     },
     "metadata": {
      "needs_background": "light"
     },
     "output_type": "display_data"
    },
    {
     "name": "stdout",
     "output_type": "stream",
     "text": [
      "Probability of the generated point, according to the logistic distribution: tensor(0.0092)\n"
     ]
    },
    {
     "data": {
      "image/png": "[encoded data removed]",
      "text/plain": [
       "<Figure size 432x288 with 1 Axes>"
      ]
     },
     "metadata": {
      "needs_background": "light"
     },
     "output_type": "display_data"
    }
   ],
   "source": [
    "# campiono da una logistica\n",
    "logistic = LogisticDistribution()\n",
    "random_sample = logistic.sample((1, 2)).view((1, 2)) \n",
    "show_sampled_points(random_sample.detach().numpy())\n",
    "print('Probability of the generated point, according to the logistic distribution:', logistic.prob(random_sample)) \n",
    "\n",
    "# lo trasformo nella gaussiana usando l'inversa\n",
    "random_sample = random_sample.view((-1, 2))\n",
    "trasf = model.f_inverse(random_sample)\n",
    "trasf = trasf.view((1, 2))\n",
    "show_sampled_points(trasf.detach().numpy())"
   ]
  },
  {
   "cell_type": "code",
   "execution_count": 98,
   "metadata": {},
   "outputs": [
    {
     "name": "stdout",
     "output_type": "stream",
     "text": [
      "point: [-3.01921722  5.2608407 ]\n",
      "probability: 0.021690218034636877\n",
      "Log Likelihood = -3.9021196\n",
      "Probability = 0.020199051\n",
      "\n",
      "point: [1.35701329 5.84472692]\n",
      "probability: 0.03500290143831062\n",
      "Log Likelihood = -3.4195857\n",
      "Probability = 0.03272599\n",
      "\n",
      "point: [-0.02918264  5.46309261]\n",
      "probability: 0.04287965358802647\n",
      "Log Likelihood = -3.0672848\n",
      "Probability = 0.04654737\n",
      "\n",
      "point: [6.53154866 5.24702963]\n",
      "probability: 0.010571612201992178\n",
      "Log Likelihood = -4.7983828\n",
      "Probability = 0.008243067\n",
      "\n",
      "point: [1.69865617 6.96695952]\n",
      "probability: 0.007097302338252103\n",
      "Log Likelihood = -5.1201324\n",
      "Probability = 0.0059752315\n",
      "\n",
      "point: [-2.0123539   2.76589917]\n",
      "probability: 0.0026360157637245734\n",
      "Log Likelihood = -5.754653\n",
      "Probability = 0.0031680057\n",
      "\n",
      "point: [0.95237891 4.65221054]\n",
      "probability: 0.047370208693406565\n",
      "Log Likelihood = -2.8402784\n",
      "Probability = 0.058409404\n",
      "\n",
      "point: [7.25285236 4.44567097]\n",
      "probability: 0.0061106747329350295\n",
      "Log Likelihood = -5.2660456\n",
      "Probability = 0.005163991\n",
      "\n",
      "point: [0.61889699 6.0616335 ]\n",
      "probability: 0.028439836252068026\n",
      "Log Likelihood = -3.7033982\n",
      "Probability = 0.024639653\n",
      "\n",
      "point: [-0.18177363  4.67585616]\n",
      "probability: 0.04453260449674117\n",
      "Log Likelihood = -2.94022\n",
      "Probability = 0.052854095\n",
      "\n"
     ]
    }
   ],
   "source": [
    "from scipy import stats\n",
    "for t in points[:10]:\n",
    "    print('point:', t)\n",
    "    print('probability:', stats.multivariate_normal.pdf(t, mean=[1,5], cov=[[10,0], [0,1]]))\n",
    "    t = torch.from_numpy(t)\n",
    "    z, loglikelihood = model.forward(t.float())\n",
    "    print('Log Likelihood =', loglikelihood.detach().numpy()[0])\n",
    "    print('Probability =', torch.exp(loglikelihood).detach().numpy()[0])\n",
    "    print('')"
   ]
  },
  {
   "cell_type": "code",
   "execution_count": null,
   "metadata": {},
   "outputs": [],
   "source": []
  }
 ],
 "metadata": {
  "kernelspec": {
   "display_name": "Python 3",
   "language": "python",
   "name": "python3"
  },
  "language_info": {
   "codemirror_mode": {
    "name": "ipython",
    "version": 3
   },
   "file_extension": ".py",
   "mimetype": "text/x-python",
   "name": "python",
   "nbconvert_exporter": "python",
   "pygments_lexer": "ipython3",
   "version": "3.7.9"
  }
 },
 "nbformat": 4,
 "nbformat_minor": 4
}
