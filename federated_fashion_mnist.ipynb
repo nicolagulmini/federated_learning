{
  "nbformat": 4,
  "nbformat_minor": 0,
  "metadata": {
    "colab": {
      "name": "federated_fashion_mnist.ipynb",
      "provenance": [],
      "collapsed_sections": []
    },
    "kernelspec": {
      "name": "python3",
      "display_name": "Python 3"
    },
    "language_info": {
      "name": "python"
    }
  },
  "cells": [
    {
      "cell_type": "markdown",
      "metadata": {
        "id": "buDdRlYLDJ20"
      },
      "source": [
        "# Federated Mnist tests"
      ]
    },
    {
      "cell_type": "markdown",
      "metadata": {
        "id": "F08cynEkE6B3"
      },
      "source": [
        "take a look at this link: https://github.com/nicolagulmini/federated_learning#federated_fashion_mnist_x\n",
        "\n",
        "Author: Nicola Gulmini (nicolagulmini@gmail.com)"
      ]
    },
    {
      "cell_type": "markdown",
      "metadata": {
        "id": "HSPvf_qAxymW"
      },
      "source": [
        "# Modules and parameters"
      ]
    },
    {
      "cell_type": "code",
      "metadata": {
        "colab": {
          "base_uri": "https://localhost:8080/"
        },
        "id": "TZjGQ8LtKqqZ",
        "outputId": "5466f989-aeed-4a71-a583-65dd4a352515"
      },
      "source": [
        "!rm -r federated_learning\n",
        "!git clone git://github.com/nicolagulmini/federated_learning"
      ],
      "execution_count": 1,
      "outputs": [
        {
          "output_type": "stream",
          "name": "stdout",
          "text": [
            "Cloning into 'federated_learning'...\n",
            "remote: Enumerating objects: 80250, done.\u001b[K\n",
            "remote: Counting objects: 100% (37384/37384), done.\u001b[K\n",
            "remote: Compressing objects: 100% (37276/37276), done.\u001b[K\n",
            "remote: Total 80250 (delta 481), reused 36849 (delta 107), pack-reused 42866\u001b[K\n",
            "Receiving objects: 100% (80250/80250), 72.01 MiB | 34.07 MiB/s, done.\n",
            "Resolving deltas: 100% (645/645), done.\n",
            "Checking out files: 100% (102080/102080), done.\n"
          ]
        }
      ]
    },
    {
      "cell_type": "code",
      "metadata": {
        "id": "W_AmwDJnDNLs"
      },
      "source": [
        "# from github\n",
        "from federated_learning.utils import *\n",
        "from federated_learning.aggregator import *\n",
        "\n",
        "# other libraries\n",
        "from tensorflow.keras.utils import plot_model\n",
        "from tensorflow.keras import models\n",
        "from skimage import io\n",
        "from skimage import transform\n",
        "import pandas as pd\n",
        "from numpy import array\n",
        "from numpy import argmax\n",
        "from numpy import swapaxes\n",
        "import matplotlib.pyplot as plt\n",
        "from tensorflow.keras.utils import to_categorical\n",
        "from random import choice"
      ],
      "execution_count": 2,
      "outputs": []
    },
    {
      "cell_type": "code",
      "metadata": {
        "id": "5gEgZDPwJxI8"
      },
      "source": [
        "# PARAMETERS\n",
        "number_of_users = 45\n",
        "number_of_clusters = 9\n",
        "\n",
        "communication_rounds = 100\n",
        "TRAINED = True"
      ],
      "execution_count": 3,
      "outputs": []
    },
    {
      "cell_type": "markdown",
      "metadata": {
        "id": "YcN9hrBr_GPT"
      },
      "source": [
        "# Initialization of the setup and the datasets"
      ]
    },
    {
      "cell_type": "code",
      "metadata": {
        "id": "5zJdBbrBLV9t",
        "colab": {
          "base_uri": "https://localhost:8080/"
        },
        "outputId": "f6fb5933-8ed9-49e5-a913-ba08db285568"
      },
      "source": [
        "# definition of the setup with the central server and its datasets\n",
        "server = server()\n",
        "server.model = define_model_mnist().model\n",
        "fed_setup = federated_setup(server)\n",
        "fed_setup.server_side_dataset_generator(600, 200, dataset='fashion')"
      ],
      "execution_count": 4,
      "outputs": [
        {
          "output_type": "stream",
          "name": "stdout",
          "text": [
            "Server dataset setting completed.\n"
          ]
        }
      ]
    },
    {
      "cell_type": "code",
      "metadata": {
        "id": "XbF105U-KHDN",
        "colab": {
          "base_uri": "https://localhost:8080/"
        },
        "outputId": "90858ef2-1e54-489d-ff30-199eae3f36bb"
      },
      "source": [
        "# initialization of the clusters with the users assigned. This is the method that creates the setup, returning a list of clusters with no data\n",
        "clusters = fed_setup.initialize_users_to_clusters(number_of_users, number_of_clusters)"
      ],
      "execution_count": 5,
      "outputs": [
        {
          "output_type": "stream",
          "name": "stdout",
          "text": [
            "Cluster number 0. User ids: [0, 1, 2, 3, 4]\n",
            "Cluster number 1. User ids: [5, 6, 7, 8, 9]\n",
            "Cluster number 2. User ids: [10, 11, 12, 13, 14]\n",
            "Cluster number 3. User ids: [15, 16, 17, 18, 19]\n",
            "Cluster number 4. User ids: [20, 21, 22, 23, 24]\n",
            "Cluster number 5. User ids: [25, 26, 27, 28, 29]\n",
            "Cluster number 6. User ids: [30, 31, 32, 33, 34]\n",
            "Cluster number 7. User ids: [35, 36, 37, 38, 39]\n",
            "Cluster number 8. User ids: [40, 41, 42, 43, 44]\n"
          ]
        }
      ]
    },
    {
      "cell_type": "markdown",
      "metadata": {
        "id": "r6yCk9f6oSLq"
      },
      "source": [
        "Dataset load, rotating some images to make the learning more challenging"
      ]
    },
    {
      "cell_type": "code",
      "metadata": {
        "id": "7f_HVccPwUMB"
      },
      "source": [
        "# take the images and the .csv labels from the dataset to numpy arrays\n",
        "\n",
        "clusters_train_data, clusters_test_data = [], []\n",
        "datapath = \"federated_learning/federated_fashion_mnist/federated_fashion_mnist_80/\"\n",
        "for i in range(number_of_clusters):\n",
        "    cluster_data_path = datapath + str(i)\n",
        "    train_path = cluster_data_path + \"/training_images/\"\n",
        "    test_path = cluster_data_path + \"/test_images/\"\n",
        "    ytrain = pd.read_csv(cluster_data_path + \"/training_labels.csv\", header=None, usecols=[1]).to_numpy().reshape(-1)\n",
        "    ytest = pd.read_csv(cluster_data_path + \"/test_labels.csv\", header=None, usecols=[1]).to_numpy().reshape(-1)\n",
        "    xtrain, xtest = [], []\n",
        "    for img in range(len(ytrain)):\n",
        "        xtrain.append(transform.rotate(io.imread(train_path + str(img) + \".png\", as_gray=True), choice([0, 90, 180, 270])))\n",
        "    for img in range(len(ytest)):\n",
        "        xtest.append(transform.rotate(io.imread(test_path + str(img) + \".png\", as_gray=True), choice([0, 90, 180, 270])))\n",
        "    xtrain = array(xtrain)\n",
        "    xtest = array(xtest)\n",
        "    ytrain = array(ytrain)\n",
        "    ytest = array(ytest)\n",
        "    clusters_train_data.append({'cluster': i, 'images': xtrain, 'labels': ytrain})\n",
        "    clusters_test_data.append({'cluster': i, 'images': xtest, 'labels': ytest})"
      ],
      "execution_count": 6,
      "outputs": []
    },
    {
      "cell_type": "code",
      "metadata": {
        "id": "2DkLO3q_KPis",
        "colab": {
          "base_uri": "https://localhost:8080/"
        },
        "outputId": "f1176fe5-a59a-4dfa-a1fe-ea293b66db7b"
      },
      "source": [
        "# these methods assign data from the just loaded dataset to the clusters, and then from each cluster to its users\n",
        "fed_setup.assign_dataset_to_clusters(clusters_train_data, clusters_test_data)\n",
        "fed_setup.assign_clusters_data_to_users(verbose=0)\n",
        "\n",
        "# initialize clusters models\n",
        "for cluster in fed_setup.list_of_clusters:\n",
        "    cluster.initialize_models()\n",
        "    for user in cluster.users:\n",
        "        user.initialize_classification_model()\n",
        "    # then to transfer the cluster model to its users the transfer_cluster_model_to_users() method has to be used\n",
        "\n",
        "# propagate from server to clusters the initial classification model\n",
        "fed_setup.server_to_cluster_classification() # useless if local_updates=True then"
      ],
      "execution_count": 7,
      "outputs": [
        {
          "output_type": "stream",
          "name": "stdout",
          "text": [
            "Set data for cluster 0\n",
            "Set data for cluster 1\n",
            "Set data for cluster 2\n",
            "Set data for cluster 3\n",
            "Set data for cluster 4\n",
            "Set data for cluster 5\n",
            "Set data for cluster 6\n",
            "Set data for cluster 7\n",
            "Set data for cluster 8\n",
            "Done.\n"
          ]
        }
      ]
    },
    {
      "cell_type": "code",
      "metadata": {
        "id": "6ROeYHI0JU9L"
      },
      "source": [
        "fed_setup.local_epochs = 4"
      ],
      "execution_count": 8,
      "outputs": []
    },
    {
      "cell_type": "code",
      "metadata": {
        "id": "Pd2vnJjrF4N0"
      },
      "source": [
        "if not TRAINED:\n",
        "    # to plot\n",
        "    #server_aggregator_performance = []\n",
        "    genie_perf = [fed_setup.genie()]\n",
        "    #local_acc = []\n",
        "    global_avg_softmax = [fed_setup.global_acc_of_avg_softmax_model()]\n",
        "    server_global_acc = [fed_setup.server.model.evaluate(fed_setup.server.x_test, fed_setup.server.y_test, verbose=0)[1]]\n",
        "    server_avg_local_acc = []\n",
        "    avg_local_local_models = []\n",
        "    avg_local_avg_softmax = [fed_setup.avg_softmax_on_local_datasets()]\n",
        "\n",
        "    # other metrics\n",
        "    tmp_server_local_acc = 0\n",
        "    tmp_acc = 0\n",
        "    for cluster in fed_setup.list_of_clusters:\n",
        "        tmp_server_local_acc += fed_setup.server.model.evaluate(cluster.test_data['images'], to_categorical(cluster.test_data['labels'], 10), verbose=0)[1]\n",
        "        tmp_acc += cluster.get_model().evaluate(cluster.test_data['images'], to_categorical(cluster.test_data['labels'], 10), verbose=0)[1]\n",
        "    server_avg_local_acc.append(tmp_server_local_acc/len(fed_setup.list_of_clusters))\n",
        "    avg_local_local_models.append(tmp_acc/len(fed_setup.list_of_clusters))\n",
        "\n",
        "    # training\n",
        "    print(\"\\nStart training.\\n\")\n",
        "    for round in range(communication_rounds):\n",
        "\n",
        "        print(\"\\n****** COMMUNICATION ROUND NUMBER \" + str(round) + \" START ******\\n\")\n",
        "        # train\n",
        "        avg_local_local_models_acc, tmp_server_global_acc = fed_setup.clustered_fed_avg_one_shot(local_updates=False)\n",
        "\n",
        "        # returned metrics\n",
        "        server_global_acc.append(tmp_server_global_acc)\n",
        "        avg_local_local_models.append(avg_local_local_models_acc)\n",
        "\n",
        "        # other metrics\n",
        "        genie_perf.append(fed_setup.genie())\n",
        "        global_avg_softmax.append(fed_setup.global_acc_of_avg_softmax_model())\n",
        "        avg_local_avg_softmax.append(fed_setup.avg_softmax_on_local_datasets())\n",
        "\n",
        "        # server model local performances\n",
        "        tmp_server_local_acc = 0\n",
        "        for cluster in fed_setup.list_of_clusters:\n",
        "            tmp_server_local_acc += fed_setup.server.model.evaluate(cluster.test_data['images'], to_categorical(cluster.test_data['labels'], 10), verbose=0)[1]\n",
        "        server_avg_local_acc.append(tmp_server_local_acc/len(fed_setup.list_of_clusters))\n",
        "\n",
        "    for cluster in fed_setup.list_of_clusters:\n",
        "        cluster.get_model().save(\"final_cluster_model_\" + str(cluster.number) + \".h5\")\n",
        "\n",
        "else:\n",
        "    # load already trained models\n",
        "    for cluster in fed_setup.list_of_clusters:\n",
        "        cluster.model = models.load_model(\"./federated_learning/federated_fashion_mnist/100_rounds_80_heterogeneity_trained_local_models/final_cluster_model_\"+str(cluster.number)+\".h5\")"
      ],
      "execution_count": null,
      "outputs": []
    },
    {
      "cell_type": "code",
      "metadata": {
        "id": "1JqZTryccTqV"
      },
      "source": [
        ""
      ],
      "execution_count": 10,
      "outputs": []
    },
    {
      "cell_type": "markdown",
      "metadata": {
        "id": "WXUJdXymFEWV"
      },
      "source": [
        "# Aggregator"
      ]
    },
    {
      "cell_type": "code",
      "metadata": {
        "id": "QLy42_0R4-Rx"
      },
      "source": [
        "# define the aggregator\n",
        "# Attention based aggregator\n",
        "server_agg = attention_based_aggregator(len(fed_setup.list_of_clusters))\n",
        "\n",
        "(x_train, y_train), (x_val, y_val), (x_test, y_test) = server_agg.produce_datasets(fed_setup)\n",
        "epochs = 100\n",
        "server_agg_acc, server_agg_loss, server_agg_val_acc, server_agg_val_loss = server_agg.train(x_train, y_train, x_val, y_val, 0, epochs)\n",
        "server_acc = server_agg.evaluate(x_test, y_test, 0)"
      ],
      "execution_count": 17,
      "outputs": []
    },
    {
      "cell_type": "markdown",
      "metadata": {
        "id": "zOH8oyGdKy-7"
      },
      "source": [
        "## Check the parameters"
      ]
    },
    {
      "cell_type": "code",
      "metadata": {
        "id": "4RO1cg5iKtdN"
      },
      "source": [
        "#activation_model = Model(inputs=server_agg.model.input, outputs=server_agg.model.layers[2].output) # Creates a model that will return these outputs, given the model input"
      ],
      "execution_count": null,
      "outputs": []
    },
    {
      "cell_type": "code",
      "metadata": {
        "id": "U8HplGEeODe-",
        "colab": {
          "base_uri": "https://localhost:8080/",
          "height": 108
        },
        "outputId": "d417ba56-5ff9-481d-e887-006ba09e52b4"
      },
      "source": [
        "import numpy\n",
        "# change them!\n",
        "'''\n",
        "cluster_favourite_labels = {0: 7, \n",
        "                            1: 6,\n",
        "                            2: 2,\n",
        "                            3: 5,\n",
        "                            4: 5,\n",
        "                            5: 9,\n",
        "                            6: 8,\n",
        "                            7: 5,\n",
        "                            8: 7,\n",
        "                        }\n",
        "\n",
        "classes = [array([0.0 for _ in range(9)]) for __ in range(10)]\n",
        "classes_count = [0 for _ in range(10)]\n",
        "for i in range(len(fed_setup.server.x_train)):\n",
        "    label = argmax(fed_setup.server.y_train[i])\n",
        "    tmp_vector = activation_model.predict([fed_setup.server.x_train[i].reshape((1, 28, 28)), numpy.array([0])])[0]\n",
        "    classes[label] += tmp_vector\n",
        "    classes_count[label] += 1\n",
        "\n",
        "cluster_with_that_label = [[] for _ in range(10)]\n",
        "for label in range(10):\n",
        "    for i in range(9):\n",
        "        if cluster_favourite_labels[i] == label:\n",
        "            cluster_with_that_label[label].append(i)\n",
        "'''"
      ],
      "execution_count": 19,
      "outputs": [
        {
          "output_type": "execute_result",
          "data": {
            "application/vnd.google.colaboratory.intrinsic+json": {
              "type": "string"
            },
            "text/plain": [
              "'\\ncluster_favourite_labels = {0: 7, \\n                            1: 6,\\n                            2: 2,\\n                            3: 5,\\n                            4: 5,\\n                            5: 9,\\n                            6: 8,\\n                            7: 5,\\n                            8: 7,\\n                        }\\n\\nclasses = [array([0.0 for _ in range(9)]) for __ in range(10)]\\nclasses_count = [0 for _ in range(10)]\\nfor i in range(len(fed_setup.server.x_train)):\\n    label = argmax(fed_setup.server.y_train[i])\\n    tmp_vector = activation_model.predict([fed_setup.server.x_train[i].reshape((1, 28, 28)), numpy.array([0])])[0]\\n    classes[label] += tmp_vector\\n    classes_count[label] += 1\\n\\ncluster_with_that_label = [[] for _ in range(10)]\\nfor label in range(10):\\n    for i in range(9):\\n        if cluster_favourite_labels[i] == label:\\n            cluster_with_that_label[label].append(i)\\n'"
            ]
          },
          "metadata": {},
          "execution_count": 19
        }
      ]
    },
    {
      "cell_type": "code",
      "metadata": {
        "id": "ofk-scxTYPHd",
        "colab": {
          "base_uri": "https://localhost:8080/",
          "height": 90
        },
        "outputId": "7d0d3406-fa50-48e5-a4ab-df9ea1f00609"
      },
      "source": [
        "'''\n",
        "for label in range(10):\n",
        "    print('Class', label)\n",
        "    print('clusters with that class:', cluster_with_that_label[label])\n",
        "    plt.figure()\n",
        "    if len(cluster_with_that_label[label]) == 0:\n",
        "        name = 'no one'\n",
        "    else:\n",
        "        name = str(cluster_with_that_label[label])\n",
        "    plt.plot(range(9), classes[label]/classes_count[label], label=str(label)+\", clusters: \"+name)\n",
        "    for x in cluster_with_that_label[label]:\n",
        "        plt.axvline(x=float(x), color='red')\n",
        "    plt.legend(loc='lower right')\n",
        "    plt.savefig(str(label)+'.png')\n",
        "    print()\n",
        "'''"
      ],
      "execution_count": 20,
      "outputs": [
        {
          "output_type": "execute_result",
          "data": {
            "application/vnd.google.colaboratory.intrinsic+json": {
              "type": "string"
            },
            "text/plain": [
              "'\\nfor label in range(10):\\n    print(\\'Class\\', label)\\n    print(\\'clusters with that class:\\', cluster_with_that_label[label])\\n    plt.figure()\\n    if len(cluster_with_that_label[label]) == 0:\\n        name = \\'no one\\'\\n    else:\\n        name = str(cluster_with_that_label[label])\\n    plt.plot(range(9), classes[label]/classes_count[label], label=str(label)+\", clusters: \"+name)\\n    for x in cluster_with_that_label[label]:\\n        plt.axvline(x=float(x), color=\\'red\\')\\n    plt.legend(loc=\\'lower right\\')\\n    plt.savefig(str(label)+\\'.png\\')\\n    print()\\n'"
            ]
          },
          "metadata": {},
          "execution_count": 20
        }
      ]
    },
    {
      "cell_type": "markdown",
      "metadata": {
        "id": "1wZLf8Sm18ZL"
      },
      "source": [
        "# Plot performance"
      ]
    },
    {
      "cell_type": "code",
      "metadata": {
        "id": "CagnMvvhFKe0",
        "colab": {
          "base_uri": "https://localhost:8080/",
          "height": 279
        },
        "outputId": "c61200e7-b3e4-45ee-c162-9ce099d00a9a"
      },
      "source": [
        "plt.figure()\n",
        "plt.plot(range(epochs), server_agg_acc, label='training acc', color='green')\n",
        "plt.plot(range(epochs), server_agg_val_acc, label='validation accuracy', color='blue')\n",
        "\n",
        "plt.legend(loc=\"upper left\")\n",
        "plt.xlabel(\"epoch\")\n",
        "plt.ylabel(\"accuracy\")\n",
        "#plt.xlim(0, server_epochs+1)\n",
        "plt.ylim(0, 1.1)\n",
        "plt.savefig('server_aggregator_acc.png')"
      ],
      "execution_count": 21,
      "outputs": [
        {
          "output_type": "display_data",
          "data": {
            "image/png": "[encoded data removed]",
            "text/plain": [
              "<Figure size 432x288 with 1 Axes>"
            ]
          },
          "metadata": {
            "needs_background": "light"
          }
        }
      ]
    },
    {
      "cell_type": "code",
      "metadata": {
        "id": "Rk8CS_nilNTw",
        "colab": {
          "base_uri": "https://localhost:8080/",
          "height": 279
        },
        "outputId": "d889d057-8f20-41ac-d013-f4f0495b0eab"
      },
      "source": [
        "plt.figure()\n",
        "plt.plot(range(epochs), server_agg_loss, label='training loss', color='orange')\n",
        "plt.plot(range(epochs), server_agg_val_loss, label='validation loss', color='red')\n",
        "\n",
        "plt.legend(loc=\"upper left\")\n",
        "plt.xlabel(\"epoch\")\n",
        "plt.ylabel(\"loss\")\n",
        "#plt.xlim(-.5, server_epochs+1)\n",
        "plt.savefig('server_aggregator_loss.png')"
      ],
      "execution_count": 22,
      "outputs": [
        {
          "output_type": "display_data",
          "data": {
            "image/png": "[encoded data removed]",
            "text/plain": [
              "<Figure size 432x288 with 1 Axes>"
            ]
          },
          "metadata": {
            "needs_background": "light"
          }
        }
      ]
    },
    {
      "cell_type": "code",
      "metadata": {
        "colab": {
          "base_uri": "https://localhost:8080/",
          "height": 279
        },
        "id": "cQDktXbDFFyS",
        "outputId": "393893c3-7138-4b5e-b72e-1071e8c39599"
      },
      "source": [
        "plt.figure()\n",
        "plt.plot(range(communication_rounds+1), [0.085, 0.115, 0.135, 0.17, 0.18, 0.21, 0.225, 0.24, 0.255, 0.265, 0.28, 0.29, 0.29, 0.305, 0.33, 0.33, 0.31, 0.315, 0.355, 0.37, 0.39, 0.365, 0.39, 0.39, 0.41, 0.4, 0.41, 0.405, 0.41, 0.42, 0.44, 0.43, 0.43, 0.435, 0.43, 0.435, 0.43, 0.44, 0.415, 0.43, 0.44, 0.445, 0.445, 0.455, 0.445, 0.445, 0.46, 0.45, 0.46, 0.45, 0.465, 0.46, 0.47, 0.475, 0.48, 0.47, 0.48, 0.485, 0.485, 0.485, 0.49, 0.475, 0.475, 0.485, 0.485, 0.48, 0.49, 0.48, 0.485, 0.475, 0.48, 0.48, 0.475, 0.485, 0.48, 0.49, 0.485, 0.485, 0.49, 0.485, 0.49, 0.495, 0.495, 0.485, 0.49, 0.485, 0.48, 0.485, 0.48, 0.485, 0.49, 0.5, 0.5, 0.49, 0.5, 0.5, 0.5, 0.505, 0.5, 0.495, 0.495], label='global acc - avg softmax outputs', color='green')\n",
        "plt.plot(range(communication_rounds+1), [0.085, 0.635, 0.64, 0.64, 0.64, 0.65, 0.665, 0.675, 0.685, 0.69, 0.705, 0.705, 0.715, 0.715, 0.73, 0.73, 0.73, 0.745, 0.75, 0.76, 0.765, 0.765, 0.77, 0.775, 0.79, 0.78, 0.785, 0.785, 0.785, 0.795, 0.795, 0.795, 0.79, 0.785, 0.78, 0.785, 0.785, 0.79, 0.79, 0.785, 0.79, 0.8, 0.795, 0.795, 0.805, 0.805, 0.805, 0.81, 0.81, 0.805, 0.805, 0.805, 0.81, 0.815, 0.81, 0.815, 0.81, 0.815, 0.81, 0.82, 0.81, 0.81, 0.81, 0.815, 0.815, 0.815, 0.81, 0.815, 0.82, 0.81, 0.81, 0.81, 0.805, 0.815, 0.805, 0.82, 0.81, 0.81, 0.815, 0.81, 0.815, 0.82, 0.82, 0.815, 0.82, 0.815, 0.81, 0.805, 0.805, 0.815, 0.81, 0.815, 0.82, 0.81, 0.815, 0.82, 0.82, 0.815, 0.82, 0.815, 0.815], label='global acc - genie (upper bound)', color='violet')\n",
        "plt.plot(range(communication_rounds+1), [0.08500000089406967, 0.10499999672174454, 0.17000000178813934, 0.20999999344348907, 0.20499999821186066, 0.23499999940395355, 0.25999999046325684, 0.2549999952316284, 0.2849999964237213, 0.2849999964237213, 0.33000001311302185, 0.3400000035762787, 0.36000001430511475, 0.36500000953674316, 0.4000000059604645, 0.41999998688697815, 0.42500001192092896, 0.42500001192092896, 0.42500001192092896, 0.41499999165534973, 0.42500001192092896, 0.4300000071525574, 0.4300000071525574, 0.42500001192092896, 0.4350000023841858, 0.4300000071525574, 0.4350000023841858, 0.4449999928474426, 0.4399999976158142, 0.44999998807907104, 0.4449999928474426, 0.4449999928474426, 0.4399999976158142, 0.4399999976158142, 0.4449999928474426, 0.4399999976158142, 0.46000000834465027, 0.44999998807907104, 0.46000000834465027, 0.46000000834465027, 0.44999998807907104, 0.45500001311302185, 0.45500001311302185, 0.4650000035762787, 0.46000000834465027, 0.4650000035762787, 0.45500001311302185, 0.46000000834465027, 0.4699999988079071, 0.4650000035762787, 0.4650000035762787, 0.46000000834465027, 0.46000000834465027, 0.4699999988079071, 0.4749999940395355, 0.4699999988079071, 0.4699999988079071, 0.47999998927116394, 0.49000000953674316, 0.49000000953674316, 0.48500001430511475, 0.49000000953674316, 0.48500001430511475, 0.48500001430511475, 0.48500001430511475, 0.4749999940395355, 0.47999998927116394, 0.4749999940395355, 0.4749999940395355, 0.47999998927116394, 0.4749999940395355, 0.4699999988079071, 0.47999998927116394, 0.4699999988079071, 0.48500001430511475, 0.48500001430511475, 0.4950000047683716, 0.5049999952316284, 0.4950000047683716, 0.48500001430511475, 0.49000000953674316, 0.4950000047683716, 0.49000000953674316, 0.4950000047683716, 0.4950000047683716, 0.49000000953674316, 0.49000000953674316, 0.4950000047683716, 0.4950000047683716, 0.49000000953674316, 0.47999998927116394, 0.47999998927116394, 0.5, 0.5, 0.5049999952316284, 0.5049999952316284, 0.48500001430511475, 0.5, 0.5, 0.5, 0.5049999952316284], label='global acc - avg local models weights', color='grey')\n",
        "plt.plot(range(communication_rounds+1), [server_acc for _ in range(communication_rounds+1)], label='server aggregator global acc', color='brown')\n",
        "\n",
        "plt.legend(loc=\"upper left\")\n",
        "plt.xlabel(\"communication round\")\n",
        "plt.ylabel(\"global accuracy\")\n",
        "plt.xlim(-.5, communication_rounds+1)\n",
        "plt.ylim(0, 1.1)\n",
        "plt.savefig('global.png')"
      ],
      "execution_count": 23,
      "outputs": [
        {
          "output_type": "display_data",
          "data": {
            "image/png": "[encoded data removed]",
            "text/plain": [
              "<Figure size 432x288 with 1 Axes>"
            ]
          },
          "metadata": {
            "needs_background": "light"
          }
        }
      ]
    },
    {
      "cell_type": "code",
      "metadata": {
        "colab": {
          "base_uri": "https://localhost:8080/",
          "height": 283
        },
        "id": "AVQBgTSEGA3P",
        "outputId": "55af453b-fa63-476a-c79f-6ce984f046c7"
      },
      "source": [
        "plt.figure()\n",
        "\n",
        "plt.plot(range(communication_rounds+1), [0.050828605683313474, 0.8201534748077393, 0.820375919342041, 0.8214881420135498, 0.8227115869522095, 0.8253809213638306, 0.8263819217681885, 0.8251584768295288, 0.8306083679199219, 0.8307195901870728, 0.8326103687286377, 0.8336113691329956, 0.8343899316257899, 0.8359470566113789, 0.8360582788785298, 0.8369480570157368, 0.8373929527070787, 0.8382827242215474, 0.838616391023, 0.8398398359616597, 0.8400622871186998, 0.8408408429887559, 0.8427316215303209, 0.8437326285574172, 0.8436213996675279, 0.8437326285574172, 0.8452897402975295, 0.8447336223390367, 0.8470692965719435, 0.845734629366133, 0.8465131852361891, 0.84662440750334, 0.8468468520376418, 0.8462907407018874, 0.8479590747091506, 0.8480702969763014, 0.8489600751135085, 0.8487376305792067, 0.8500722977850173, 0.8495161864492629, 0.8491825196478102, 0.8495161864492629, 0.8505171868536208, 0.8498498532507155, 0.851518193880717, 0.8508508536550734, 0.8508508602778118, 0.8506284091207716, 0.8508508536550734, 0.8517406317922804, 0.8528528610865276, 0.8522967431280348, 0.8526304099294875, 0.8517406317922804, 0.8518518540594313, 0.8510732981893752, 0.8516294095251296, 0.8529640767309401, 0.8532977435323927, 0.8528528544637892, 0.8522967431280348, 0.8520742985937331, 0.8520742985937331, 0.8522967431280348, 0.853075298998091, 0.8526304099294875, 0.8534089657995436, 0.8512957427236769, 0.8529640767309401, 0.8527416321966383, 0.8524079720179241, 0.8527416321966383, 0.8518518540594313, 0.853075298998091, 0.8522967431280348, 0.8525191876623366, 0.8522967431280348, 0.852185520860884, 0.8537426326009963, 0.8531865212652419, 0.8528528610865276, 0.8527416388193767, 0.8525191942850749, 0.8524079720179241, 0.8525191876623366, 0.8524079653951857, 0.8529640833536785, 0.8525191876623366, 0.8528528544637892, 0.8535201880666945, 0.8515181872579787, 0.8520743052164714, 0.8514069649908278, 0.8531865278879802, 0.8525191942850749, 0.8528528610865276, 0.8524079720179241, 0.8529640833536785, 0.8531865278879802, 0.8532977501551311, 0.8540763060251872], label='avg local acc - clusters models', color='blue')\n",
        "plt.plot(range(communication_rounds+1), [0.05082860638416195, 0.3437882326771216, 0.3595818040262485, 0.42853965076187295, 0.4444444444444444, 0.4649093537982427, 0.4789233678122567, 0.48637526415304194, 0.5070626181737292, 0.5112890668446224, 0.5226337448559671, 0.5338672005338672, 0.5390946502057612, 0.5459904348793239, 0.5536647758869981, 0.5538872205538872, 0.5544433322211101, 0.5595595595595595, 0.5620064508953397, 0.5683461239016795, 0.5717940162384606, 0.5726837949060171, 0.5740184629073518, 0.5765765765765766, 0.5781336892448002, 0.578244911578245, 0.5785785785785786, 0.5799132465799133, 0.5835835835835836, 0.5845845845845845, 0.5858080302524747, 0.5890334779223668, 0.5889222555889223, 0.5908130352574797, 0.5915915915915916, 0.5937048159270382, 0.5937048159270382, 0.5958180402624847, 0.597486375264153, 0.600266933600267, 0.6001557112668223, 0.6007118229340452, 0.6028250472694917, 0.605271938605272, 0.6030474919363809, 0.6040484929373817, 0.605494383272161, 0.6048270492714938, 0.606495384273162, 0.6069402736069403, 0.6097208319430542, 0.6092759426092761, 0.6083861639417195, 0.6090534979423868, 0.6130575019463909, 0.6141697252808364, 0.6122789456122789, 0.61327994661328, 0.6160605049493939, 0.6157268379490602, 0.6113891669447225, 0.6119452786119451, 0.6152819486152821, 0.6163941719497275, 0.6160605049493939, 0.615281948615282, 0.6148370592815037, 0.6168390612835056, 0.6173951729507284, 0.6199532866199533, 0.6196196196196195, 0.6152819486152821, 0.6189522856189522, 0.6166166166166166, 0.619285952619286, 0.6171727282838395, 0.6192859526192859, 0.6219552886219553, 0.6218440662885106, 0.6181737292848405, 0.620509398287176, 0.6198420642865088, 0.6207318429540651, 0.6239572906239572, 0.6216216216216216, 0.6198420642865089, 0.6217328439550661, 0.6265154042931821, 0.6251807362918473, 0.6209542876209544, 0.6247358469580693, 0.6210655099543989, 0.6250695139584029, 0.6270715159604048, 0.6294071849627405, 0.6310755199644089, 0.6211767322878434, 0.6265154042931821, 0.6291847402958514, 0.62451340229118, 0.6296296296296295], label='avg local acc - avg softmax outputs', color='green')\n",
        "plt.plot(range(communication_rounds+1), [0.050828605683313474, 0.3182070907205343, 0.3719274749358495, 0.4264264189534717, 0.42475808246268165, 0.44511176894108456, 0.47514179431729847, 0.47147147274679607, 0.49104660004377365, 0.4872650346822209, 0.4967189356684685, 0.5065064976612726, 0.5112890609436564, 0.5179624118738704, 0.5195195161634021, 0.5279724051554998, 0.5275275193982654, 0.5310866443647279, 0.5353130814101961, 0.5394283069504632, 0.5423200908634398, 0.545656755566597, 0.5459904372692108, 0.5463240991036097, 0.5525525493754281, 0.5533311069011688, 0.5525525510311127, 0.5575575563642714, 0.5587809979915619, 0.5636747777462006, 0.5605605559216605, 0.5642308907376395, 0.5633411109447479, 0.5681236684322357, 0.5679012272093031, 0.5690134515364965, 0.5732398960325453, 0.5716827859481176, 0.5745745632383559, 0.575575566954083, 0.5746857937839296, 0.5720164560609393, 0.5785785698228412, 0.5782449063327577, 0.575909232099851, 0.5813591265016131, 0.5770214580827289, 0.5791346811585956, 0.584250905447536, 0.5839172386460834, 0.5826937970187929, 0.5862529062562518, 0.587031462126308, 0.585140683584743, 0.5901456988520093, 0.5855855792760849, 0.5862529161903594, 0.5875875833961699, 0.5898120287391875, 0.5897008064720366, 0.5915915883249707, 0.5900344732734892, 0.5939272559351392, 0.591146695944998, 0.5929262555307813, 0.5903681417306265, 0.5945945928494135, 0.5920364823606279, 0.5924813697735468, 0.5920364790492587, 0.5931487050321367, 0.5932599223322339, 0.593259925643603, 0.5938160336679883, 0.5953731503751543, 0.5958180344767041, 0.5968190381924311, 0.5972639272610346, 0.5965965953138139, 0.5958180344767041, 0.6003781507412592, 0.6003781523969438, 0.5985985928111606, 0.5997108187940385, 0.598376151588228, 0.5974863684839673, 0.6001557045512729, 0.6021577086713579, 0.6008230414655473, 0.5980424814754062, 0.5968190365367465, 0.5973751478725009, 0.5999332633283403, 0.6016015973356035, 0.5997108187940385, 0.6019352641370561, 0.6001557028955884, 0.6016015923685498, 0.6024913754728105, 0.6021577037043042, 0.6010454859998491], label='avg local acc - avg local models weights', color='grey')\n",
        "\n",
        "plt.legend(loc=\"lower right\")\n",
        "plt.xlabel(\"communication round\")\n",
        "plt.ylabel(\"local accuracy\")\n",
        "plt.xlim(-.5, communication_rounds+1)\n",
        "plt.ylim(0, 1)\n",
        "plt.savefig('local.png')"
      ],
      "execution_count": 24,
      "outputs": [
        {
          "data": {
            "image/png": "[encoded data removed]",
            "text/plain": [
              "<Figure size 432x288 with 1 Axes>"
            ]
          },
          "metadata": {},
          "output_type": "display_data"
        }
      ]
    }
  ]
}